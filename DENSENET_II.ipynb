{
  "metadata": {
    "kernelspec": {
      "language": "python",
      "display_name": "Python 3",
      "name": "python3"
    },
    "language_info": {
      "pygments_lexer": "ipython3",
      "nbconvert_exporter": "python",
      "version": "3.6.4",
      "file_extension": ".py",
      "codemirror_mode": {
        "name": "ipython",
        "version": 3
      },
      "name": "python",
      "mimetype": "text/x-python"
    },
    "colab": {
      "provenance": []
    }
  },
  "nbformat_minor": 0,
  "nbformat": 4,
  "cells": [
    {
      "cell_type": "markdown",
      "source": [
        "## MELANOMA DETECTION"
      ],
      "metadata": {
        "id": "Qlbp_PeV85jZ"
      }
    },
    {
      "cell_type": "markdown",
      "source": [
        "## Dataset Link : \n",
        "\n",
        "[Skin Cancer MNIST: HAM10000](https://www.kaggle.com/datasets/kmader/skin-cancer-mnist-ham10000)"
      ],
      "metadata": {
        "id": "xa9CJNRdBiTL"
      }
    },
    {
      "cell_type": "code",
      "source": [
        "'''\n",
        "IMPORTING THE BASIC LIBRARIES\n",
        "NUMPY : FOR SOME CALCULATIONS\n",
        "MATPLOTLIB, SEABORN, PIL : FOR SOME VISUALISATIONS\n",
        "PANDAS: TO TAKE THE RAW DATA (WHICH IS IN THE .csv FORMAT)\n",
        "KERAS: FOR IMAGE AUGMENTATIONS\n",
        "TENSORFLOW: FOR THE MODEL MAKING AND TRAINING\n",
        "SKLEARN: FOR SPLITTING THE DATASETS TO TRAIN, TEST SETS AND FOR SOME PERFORMANCE METRICS AND THE CONFUSION MATRIX\n",
        "\n",
        "'''\n",
        "\n",
        "import numpy as np\n",
        "import matplotlib.pyplot as plt\n",
        "import seaborn as sns\n",
        "from PIL import Image\n",
        "import pandas as pd\n",
        "import datetime\n",
        "\n",
        "import tensorflow as tf\n",
        "from keras.preprocessing.image import ImageDataGenerator\n",
        "from keras.preprocessing.image import array_to_img, img_to_array\n",
        "from tensorflow.keras.models import Sequential\n",
        "from tensorflow.keras.layers import Conv2D, Flatten, BatchNormalization, Dropout, Dense, MaxPool2D\n",
        "from keras.callbacks import ReduceLROnPlateau\n",
        "\n",
        "from sklearn.model_selection import train_test_split\n",
        "from sklearn.metrics import confusion_matrix, classification_report"
      ],
      "metadata": {
        "execution": {
          "iopub.status.busy": "2022-03-17T10:12:20.097276Z",
          "iopub.execute_input": "2022-03-17T10:12:20.097706Z",
          "iopub.status.idle": "2022-03-17T10:12:27.416329Z",
          "shell.execute_reply.started": "2022-03-17T10:12:20.097613Z",
          "shell.execute_reply": "2022-03-17T10:12:27.415346Z"
        },
        "trusted": true,
        "id": "e3IXVUL185jb"
      },
      "execution_count": null,
      "outputs": []
    },
    {
      "cell_type": "code",
      "source": [
        " '''\n",
        "THERE ARE TOTAL OF 7 DIFFERENT KIND OF CLASSES PRESENT HERE WHICH AE TO BE CLASSIFIED\n",
        "\n",
        "0: nv - Melanocytic nevi\n",
        "1: mel - Melanoma\n",
        "2: bkl - Benign keratosis-like lesions\n",
        "3: bcc - Basal cell carcinoma\n",
        "4: akiec - Actinic keratoses and intraepithelial carcinoma / Bowen's disease\n",
        "5: vasc - Vascular lesions\n",
        "6: df - Dermatofibroma\n",
        "\n",
        "VISUALISING THE DATA DISTRIBUTIONS\n",
        "THE DATA IS NOT MUCH EQUALLY DISTRIBUTED \n",
        "SO ACCURACY IS NOT ONLY THE METRICS TO BE CONSIDERED SO THE METRICS TO BE CONSIDERED HERE ARE AS FOLLOWS\n",
        "\n",
        "ACCURACY\n",
        "AUC\n",
        "F1 SCORE\n",
        "\n",
        "ALSO WITH THE PERFORMANCE METRICS IS ALSO REQUIRED IN ORDER TO MAKE TO SEE THE CLASSIFICATION REPORT\n",
        "\n",
        "'''\n",
        "\n",
        "\n",
        "raw_data = pd.read_csv('../input/skin-cancer-mnist-ham10000/hmnist_28_28_RGB.csv')\n",
        "raw_data = raw_data.sample(frac = 1)\n",
        "data = raw_data.iloc[:,:-1]\n",
        "labels = raw_data.iloc[:,-1:]\n",
        "\n",
        "type_cancer = ['akiec','df','bkl','mel','nv','vasc','bcc']\n",
        "counts = list(labels.value_counts())\n",
        "plt.figure(figsize = (8,6))\n",
        "plt.xlabel(\"Dataset Lesions\")\n",
        "plt.ylabel(\"Number of Images\")\n",
        "sns.barplot(x = type_cancer, y = counts)"
      ],
      "metadata": {
        "execution": {
          "iopub.status.busy": "2022-03-17T10:12:27.41868Z",
          "iopub.execute_input": "2022-03-17T10:12:27.419Z",
          "iopub.status.idle": "2022-03-17T10:12:32.967628Z",
          "shell.execute_reply.started": "2022-03-17T10:12:27.418969Z",
          "shell.execute_reply": "2022-03-17T10:12:32.96659Z"
        },
        "trusted": true,
        "id": "1ZcuVBGo85jc"
      },
      "execution_count": null,
      "outputs": []
    },
    {
      "cell_type": "code",
      "source": [
        "'''\n",
        "NOTE: \n",
        "AS THE DATASET IS VERY MUCH IMBALANCED AS THE CLASS 'akiec' IS HAVING THE A UNWANTED HIGH FREQUENCY THAN OTHERS, WHICH MAKES THE \n",
        "TRAINING PROCESS A MORE BIASED TOWARDS THE THAT CLASS THAN OTHERS AND I HAVE TRAINED WITH THIS DATA AND I HAVE SEEN THAT THE f1-score \n",
        "OF THE MODEL IS MORE FOR THE 'akiec' CLASS (LIKE 0.87) BUT VERY LESS FOR OTHER CLASSES (LIKE 0.47 OR LESS THAN THAT) \n",
        "\n",
        "SOLUTION:\n",
        "SO WHAT CAN BE DONE IS THAT IF WE CAN DUPLICATE THE OTHER CLASSES DATA AND THEN EXTRACT THOSE IMAGE AND IF WE RANDOMLY \n",
        "AUGMENT THE DATA WITH KERAS ImageDataGenarator THEN WE CAN GET SOME WHAT DIFFERENT IMAGES FOR THE DIFFERENT CLASSES \n",
        "THIS SOLUTION REALLY WORKED WELL FOR THE TEST DATA AS WELL. \n",
        "\n",
        "SO THE STEPS ARE SIMPLE:\n",
        "DUPLICATE THE CLASS OF THE DATA FOR SOME AMOUNT OF TIMES FOR e.g.\n",
        "\n",
        "THE CLASS CALLED \"df\" WILL BE DUPLICATED 17 TIMES THE PREVIOUS\n",
        "AND SIMILAR LIKE OTHER CLASSES\n",
        "\n",
        "I HAVE TAKEN SOME OPTIMAL VALUE SUCH THAT THE DISTRIBUTION OF THE TOTAL DATA IS SOMEWHAT CENTRALIZED IN ORDER TO GET THE WORK DONE\n",
        "COOL THEN LETS START TO WORK\n",
        "\n",
        "'''\n",
        "\n",
        "raw_data = pd.read_csv('../input/skin-cancer-mnist-ham10000/hmnist_28_28_RGB.csv')\n",
        "raw_data = raw_data.sort_values('label')\n",
        "raw_data = raw_data.reset_index()\n",
        "\n",
        "index0 = raw_data[raw_data['label'] == 0].index.values\n",
        "index1 = raw_data[raw_data['label'] == 1].index.values\n",
        "index2 = raw_data[raw_data['label'] == 2].index.values\n",
        "index3 = raw_data[raw_data['label'] == 3].index.values\n",
        "index5 = raw_data[raw_data['label'] == 5].index.values\n",
        "index6 = raw_data[raw_data['label'] == 6].index.values\n",
        "\n",
        "df_index0 = raw_data.iloc[int(min(index0)):int(max(index0)+1)]\n",
        "df_index1 = raw_data.iloc[int(min(index1)):int(max(index1)+1)]\n",
        "df_index2 = raw_data.iloc[int(min(index2)):int(max(index2)+1)]\n",
        "df_index3 = raw_data.iloc[int(min(index3)):int(max(index3)+1)]\n",
        "df_index5 = raw_data.iloc[int(min(index5)):int(max(index5)+1)]\n",
        "df_index6 = raw_data.iloc[int(min(index6)):int(max(index6)+1)]\n",
        "\n",
        "\n",
        "df_index0 = df_index0.append([df_index0]*17, ignore_index = True)\n",
        "df_index1 = df_index1.append([df_index1]*15, ignore_index = True)\n",
        "df_index2 = df_index2.append([df_index2]*5, ignore_index = True)\n",
        "df_index3 = df_index3.append([df_index3]*52, ignore_index = True)\n",
        "df_index5 = df_index5.append([df_index5]*45, ignore_index = True)\n",
        "df_index6 = df_index6.append([df_index6]*5, ignore_index = True)\n",
        "\n",
        "frames = [raw_data, df_index0, df_index1, df_index2, df_index3, df_index5, df_index6]\n",
        "\n",
        "final_data = pd.concat(frames)\n",
        "final_data.drop('index', inplace = True, axis = 1)\n",
        "final_data = final_data.sample(frac = 1)\n",
        "data = final_data.iloc[:,:-1]\n",
        "labels = final_data.iloc[:,-1:]"
      ],
      "metadata": {
        "execution": {
          "iopub.status.busy": "2022-03-17T10:12:32.971042Z",
          "iopub.execute_input": "2022-03-17T10:12:32.971691Z",
          "iopub.status.idle": "2022-03-17T10:12:39.334427Z",
          "shell.execute_reply.started": "2022-03-17T10:12:32.971657Z",
          "shell.execute_reply": "2022-03-17T10:12:39.333508Z"
        },
        "trusted": true,
        "id": "mYfpgfzT85jd"
      },
      "execution_count": null,
      "outputs": []
    },
    {
      "cell_type": "code",
      "source": [
        "'''\n",
        "NOW WE CAN SEE THAT THE DISTRIBUTION OF THE CLASSES ARE MORE NORMALIZED THAN BEFORE\n",
        "AND NOT BIASED FOR ONE SPECIFIC CLASSES\n",
        "'''\n",
        "\n",
        "\n",
        "type_cancer = ['akiec','df','bkl','mel','nv','vasc','bcc']\n",
        "counts = list(labels.value_counts())\n",
        "plt.figure(figsize = (8,6))\n",
        "plt.xlabel(\"Dataset Lesions\")\n",
        "plt.ylabel(\"Number of Images\")\n",
        "sns.barplot(x = type_cancer, y = counts)"
      ],
      "metadata": {
        "execution": {
          "iopub.status.busy": "2022-03-17T10:12:39.335789Z",
          "iopub.execute_input": "2022-03-17T10:12:39.336115Z",
          "iopub.status.idle": "2022-03-17T10:12:39.506931Z",
          "shell.execute_reply.started": "2022-03-17T10:12:39.336082Z",
          "shell.execute_reply": "2022-03-17T10:12:39.505707Z"
        },
        "trusted": true,
        "id": "jaVbOsxC85jd"
      },
      "execution_count": null,
      "outputs": []
    },
    {
      "cell_type": "code",
      "source": [
        "'''\n",
        "MAKING THE FEATURES AND THE LABELS OUT OF THE RAW DATA\n",
        "WHERE:\n",
        "X : FEATURE\n",
        "Y : LABELS\n",
        "\n",
        "NOW RESHAPING THE DATA ON THE BASIS OF THE THREE COLOR CHANNELS\n",
        "AS THE IMAGES ARE IN THE FORM OF THE RGB FORMAT\n",
        "\n",
        "SO THERE ARE:\n",
        "10015 NO OF SAMPLES OF PICTURES\n",
        "WHERE EACH PICTURE IS HAVING A LENGTH AND WIDTH OF 28 WITH THREE CHANNELS\n",
        "\n",
        "'''\n",
        "\n",
        "X = np.array(data)\n",
        "Y = np.array(labels)\n",
        "\n",
        "# reshaping the data\n",
        "\n",
        "X = X.reshape(-1,28,28,3)\n",
        "\n",
        "print(\"SHAPE OF X IS: \", X.shape)\n",
        "print(\"SHAPE OF Y IS: \", Y.shape)"
      ],
      "metadata": {
        "execution": {
          "iopub.status.busy": "2022-03-17T10:12:39.51044Z",
          "iopub.execute_input": "2022-03-17T10:12:39.510879Z",
          "iopub.status.idle": "2022-03-17T10:12:39.863103Z",
          "shell.execute_reply.started": "2022-03-17T10:12:39.510835Z",
          "shell.execute_reply": "2022-03-17T10:12:39.862253Z"
        },
        "trusted": true,
        "id": "re6yhyfI85je"
      },
      "execution_count": null,
      "outputs": []
    },
    {
      "cell_type": "code",
      "source": [
        "'''\n",
        "VISUALISING THE PLOTS OF THE IMAGES WHERE EACH OF THE IMAGES ARE LABELED WITH \n",
        "THE CORRESPONDING LABELS OF THE IMAGES i.e. WHICH TYPE OF THE CACNCER IT IS\n",
        "\n",
        "WHERE:\n",
        "\n",
        "nv - Melanocytic nevi\n",
        "mel - Melanoma\n",
        "bkl - Benign keratosis-like lesions\n",
        "bcc - Basal cell carcinoma\n",
        "akiec - Actinic keratoses and intraepithelial carcinoma / Bowen's disease\n",
        "vasc - Vascular lesions\n",
        "df - Dermatofibroma\n",
        "\n",
        "'''\n",
        "\n",
        "def visualisePlots(X,Y, rows, columns):\n",
        "    class_dicts = {\n",
        "        0: 'nv',\n",
        "        1: 'mel',\n",
        "        2: 'bkl',\n",
        "        3: 'bcc',\n",
        "        4: 'akiec',\n",
        "        5: 'vasc',\n",
        "        6: 'df', \n",
        "    }\n",
        "    \n",
        "    data = []\n",
        "    target = []\n",
        "\n",
        "    for i in range(rows*columns):\n",
        "        data.append(X[i])\n",
        "        target.append(Y[i])\n",
        "\n",
        "    width = 11\n",
        "    height = 11\n",
        "    fig = plt.figure(figsize=(11,11))\n",
        "    for i in range(columns*rows):\n",
        "        temp_img = array_to_img(data[i])\n",
        "        fig.add_subplot(rows, columns, i+1)\n",
        "        plt.imshow(temp_img)\n",
        "        plt.xticks([])\n",
        "        plt.yticks([])\n",
        "        plt.title(str(class_dicts[target[i][0]]))\n",
        "    plt.show()\n",
        "    \n",
        "# using the above function\n",
        "\n",
        "visualisePlots(X,Y, 7,7)"
      ],
      "metadata": {
        "execution": {
          "iopub.status.busy": "2022-03-17T10:12:39.865019Z",
          "iopub.execute_input": "2022-03-17T10:12:39.865352Z",
          "iopub.status.idle": "2022-03-17T10:12:42.125881Z",
          "shell.execute_reply.started": "2022-03-17T10:12:39.865319Z",
          "shell.execute_reply": "2022-03-17T10:12:42.124725Z"
        },
        "trusted": true,
        "id": "7Ykh8vnq85je"
      },
      "execution_count": null,
      "outputs": []
    },
    {
      "cell_type": "markdown",
      "source": [
        "### GETTING THE FEARURES FROM DATA, MAKING THE MODEL, TRAINING THE MODEL"
      ],
      "metadata": {
        "id": "fHnVzKl685jf"
      }
    },
    {
      "cell_type": "code",
      "source": [
        "'''\n",
        "SPLITTING THE DATA INTO TRAIN AND THE TESTING DATA\n",
        "WHERE WE WILL SPLIT THE DATA INTO 20% OF TESTING DATA AND 80% OF THE TRAINING DATA\n",
        "ALSO THE DATA IS STANDARDISED BEFORE THE SPLIT OF THE DATA\n",
        "\n",
        "AFTER THE SPLIT OF THE DATA, IT IS ALSO BEEN AUGMENTATED WITH THE KERAS \n",
        "THE AUGMENTED DATA IS THEN TRAINED \n",
        "AS WE NOW AUGMENT THE DATA SO NOW THE DUPLICATES ONES WILL BE NOT 100% SILMILAR TO THE ORIGINAL DATA\n",
        "THUS WE CAN TREAT THEM AS OUR TRAINABLE DATA\n",
        "SO IT'S TIME TO MAKE THE MODEL AND TRAIN IT\n",
        "\n",
        "'''\n",
        "\n",
        "X = (X-np.mean(X))/np.std(X)\n",
        "X_train, X_test, Y_train, Y_test = train_test_split(X, Y, test_size=0.2, random_state=1)\n",
        "\n",
        "train_datagen = ImageDataGenerator(rescale = 1./255,\n",
        "                                  rotation_range = 10,\n",
        "                                  width_shift_range = 0.2,\n",
        "                                  height_shift_range = 0.2,\n",
        "                                  shear_range = 0.2,\n",
        "                                  horizontal_flip = True,\n",
        "                                  vertical_flip = True,\n",
        "                                  fill_mode = 'nearest')\n",
        "train_datagen.fit(X_train)\n",
        "\n",
        "test_datagen = ImageDataGenerator(rescale = 1./255)\n",
        "test_datagen.fit(X_test)\n",
        "\n",
        "train_data = train_datagen.flow(X_train, Y_train, batch_size = 64)\n",
        "test_data = test_datagen.flow(X_test, Y_test, batch_size = 64)"
      ],
      "metadata": {
        "execution": {
          "iopub.status.busy": "2022-03-17T10:12:42.127265Z",
          "iopub.execute_input": "2022-03-17T10:12:42.127685Z",
          "iopub.status.idle": "2022-03-17T10:12:45.667738Z",
          "shell.execute_reply.started": "2022-03-17T10:12:42.127643Z",
          "shell.execute_reply": "2022-03-17T10:12:45.666679Z"
        },
        "trusted": true,
        "id": "gHV-Nc1f85jf"
      },
      "execution_count": null,
      "outputs": []
    },
    {
      "cell_type": "code",
      "source": [
        "'''\n",
        "MODEL MAKING\n",
        "CONV2D (16 FILTERS) WITH PADDING AS THE IMAGES IS VERY SMALL SO THERE IS CHANCE TO GET LESS QUALITY FEATURES\n",
        "CONV2D (32 FILTERS) WITH PADDING AS THE IMAGES IS VERY SMALL SO THERE IS CHANCE TO GET LESS QUALITY FEATURES\n",
        "CONV2D (64 FILTERS) \n",
        "FLATTEN\n",
        "DENSE (64)\n",
        "DENSE (64)\n",
        "DENSE (32)\n",
        "DENSE (7 ) FINAL LAYER\n",
        "\n",
        "OPTIMIZER = ADAM\n",
        "LOSS = SPARSE CATEGORICAL CROSS ENTROPY\n",
        "CALL BACKS: NONE\n",
        "\n",
        "'''\n",
        "\n",
        "model = Sequential()\n",
        "model.add(Conv2D(16, kernel_size = (3,3), input_shape = (28, 28, 3), activation = 'relu', padding = 'same'))\n",
        "model.add(Conv2D(32, kernel_size = (3,3), activation = 'relu'))\n",
        "model.add(MaxPool2D(pool_size = (2,2)))\n",
        "\n",
        "model.add(Conv2D(32, kernel_size = (3,3), activation = 'relu', padding = 'same'))\n",
        "model.add(Conv2D(64, kernel_size = (3,3), activation = 'relu'))\n",
        "model.add(MaxPool2D(pool_size = (2,2), padding = 'same'))\n",
        "\n",
        "model.add(Conv2D(64, kernel_size = (3,3), activation = 'relu'))\n",
        "model.add(Conv2D(64, kernel_size = (3,3), activation = 'relu', padding = 'same'))\n",
        "model.add(MaxPool2D(pool_size = (2,2), padding = 'same'))\n",
        "\n",
        "model.add(Flatten())\n",
        "\n",
        "model.add(Dense(64, activation = 'relu'))\n",
        "model.add(Dense(64, activation='relu'))\n",
        "model.add(Dense(32, activation='relu'))\n",
        "model.add(Dense(32, activation='relu'))\n",
        "model.add(Dense(7, activation='softmax'))\n",
        "\n",
        "\n",
        "learning_rate_reduction = ReduceLROnPlateau(monitor='val_acc', \n",
        "                                            patience=3, \n",
        "                                            verbose=1, \n",
        "                                            factor=0.5, \n",
        "                                            min_lr=0.00001)\n",
        "\n",
        "optimizer = tf.keras.optimizers.Adam(learning_rate = 0.00075,\n",
        "                                    beta_1 = 0.9,\n",
        "                                    beta_2 = 0.999,\n",
        "                                    epsilon = 1e-8)\n",
        "\n",
        "model.compile(loss = 'sparse_categorical_crossentropy',\n",
        "             optimizer = optimizer,\n",
        "              metrics = ['accuracy'])\n",
        "\n",
        "print(model.summary())"
      ],
      "metadata": {
        "execution": {
          "iopub.status.busy": "2022-03-17T10:12:45.669135Z",
          "iopub.execute_input": "2022-03-17T10:12:45.669481Z",
          "iopub.status.idle": "2022-03-17T10:12:45.882003Z",
          "shell.execute_reply.started": "2022-03-17T10:12:45.669449Z",
          "shell.execute_reply": "2022-03-17T10:12:45.880904Z"
        },
        "trusted": true,
        "id": "PWioPcjY85jf"
      },
      "execution_count": null,
      "outputs": []
    },
    {
      "cell_type": "code",
      "source": [
        "### TRAINING THE MODEL\n",
        "\n",
        "start_model = datetime.datetime.now()\n",
        "\n",
        "history = model.fit(X_train,\n",
        "                    Y_train,\n",
        "                    validation_split=0.2,\n",
        "                    batch_size = 64,\n",
        "                    epochs = 20,\n",
        "                    callbacks=[learning_rate_reduction])\n",
        "\n",
        "end_model = datetime.datetime.now()"
      ],
      "metadata": {
        "execution": {
          "iopub.status.busy": "2022-03-17T10:12:45.883617Z",
          "iopub.execute_input": "2022-03-17T10:12:45.88399Z"
        },
        "trusted": true,
        "id": "pCqH23Vx85jg"
      },
      "execution_count": null,
      "outputs": []
    },
    {
      "cell_type": "markdown",
      "source": [
        "### VISUALIZING THE DIFFERENT PERFORMANCE MEASURE OF THE MODEL (ACC, LOSS CURVES | CONFUSION MATRIX | CLASSIFICATION REPORT)"
      ],
      "metadata": {
        "id": "ZxwHD2L885jg"
      }
    },
    {
      "cell_type": "code",
      "source": [
        "ACC = history.history['accuracy']\n",
        "VAL_ACC = history.history['val_accuracy']\n",
        "\n",
        "plt.figure(figsize=(8,6))\n",
        "plt.title(\"THE ACCURACY OF THE TRAINING AND VALIDATION PHASE OF THE MODEL\")\n",
        "plt.plot(ACC, label = 'train_acc')\n",
        "plt.plot(VAL_ACC, label = 'val_acc')\n",
        "plt.legend()\n",
        "\n",
        "LOSS = history.history['loss']\n",
        "VAL_LOSS = history.history['val_loss']\n",
        "\n",
        "plt.figure(figsize=(8,6))\n",
        "plt.title(\"THE LOSS OF THE TRAINING AND VALIDATION PHASE OF THE MODEL\")\n",
        "plt.plot(LOSS, label = 'train_loss')\n",
        "plt.plot(VAL_LOSS, label = 'val_loss')\n",
        "plt.legend()"
      ],
      "metadata": {
        "trusted": true,
        "id": "RBfFkXcp85jg"
      },
      "execution_count": null,
      "outputs": []
    },
    {
      "cell_type": "code",
      "source": [
        "Y_true = np.array(Y_test)\n",
        "\n",
        "Y_pred = model.predict(X_test)\n",
        "Y_pred = np.array(list(map(lambda x: np.argmax(x), Y_pred)))\n",
        "\n",
        "cm1 = confusion_matrix(Y_true, Y_pred)\n",
        "plt.figure(figsize=(12, 6))\n",
        "plt.title('####  THE CONFUSION MATRIX OF THE MODEL WITH TESTING DATA ####')\n",
        "sns.heatmap(cm1, annot = True, fmt = 'g' ,vmin = 0, cmap = 'Blues')"
      ],
      "metadata": {
        "trusted": true,
        "id": "iadrEgQc85jg"
      },
      "execution_count": null,
      "outputs": []
    },
    {
      "cell_type": "code",
      "source": [
        "def visualisePlots_test(X,Y, model, rows, columns):\n",
        "    class_dicts = {\n",
        "        0: 'nv',\n",
        "        1: 'mel',\n",
        "        2: 'bkl',\n",
        "        3: 'bcc',\n",
        "        4: 'akiec',\n",
        "        5: 'vasc',\n",
        "        6: 'df', \n",
        "    }\n",
        "    \n",
        "    data = []\n",
        "    target = []\n",
        "    \n",
        "    Y_pred = model.predict(X)\n",
        "    Y_pred = np.array(list(map(lambda x: np.argmax(x), Y_pred)))\n",
        "\n",
        "    for i in range(rows*columns):\n",
        "        data.append(X[i])\n",
        "        target.append(Y[i])\n",
        "\n",
        "    width = 12\n",
        "    height = 12\n",
        "    fig = plt.figure(figsize=(12,12))\n",
        "    for i in range(columns*rows):\n",
        "        temp_img = array_to_img(data[i])\n",
        "        fig.add_subplot(rows, columns, i+1)\n",
        "        plt.imshow(temp_img)\n",
        "        plt.xticks([])\n",
        "        plt.yticks([])\n",
        "        plt.title(str(class_dicts[target[i][0]]) + \" || \" + str(class_dicts[Y_pred[i]]))\n",
        "    plt.show()\n",
        "    \n",
        "# USING THE MODELS AND VISUALISING THEM\n",
        "\n",
        "print('THE PLOTS TESTING WITH THE MODEL')\n",
        "visualisePlots_test(X_test,Y_test, model, 7, 7) "
      ],
      "metadata": {
        "trusted": true,
        "id": "fn1kxSvf85jh"
      },
      "execution_count": null,
      "outputs": []
    },
    {
      "cell_type": "code",
      "source": [
        "label_mapping = {\n",
        "    0: 'nv',\n",
        "    1: 'mel',\n",
        "    2: 'bkl',\n",
        "    3: 'bcc',\n",
        "    4: 'akiec',\n",
        "    5: 'vasc',\n",
        "    6: 'df'\n",
        "}\n",
        "\n",
        "classification_report_model = classification_report(Y_true, Y_pred, target_names=label_mapping.values())\n",
        "print(classification_report_model)"
      ],
      "metadata": {
        "trusted": true,
        "id": "54WLTEV785jh"
      },
      "execution_count": null,
      "outputs": []
    },
    {
      "cell_type": "code",
      "source": [
        "time_model = end_model - start_model\n",
        "print(\"TIME TAKEN BY MODEL : \", time_model)\n",
        "\n",
        "\n",
        "model_acc_test = model.evaluate(X_test, Y_test, verbose=0)[1]\n",
        "print(\"TEST ACCURACY OF MODEL: {:.3f}%\".format(model_acc_test * 100))"
      ],
      "metadata": {
        "trusted": true,
        "id": "fXgGzGpM85jh"
      },
      "execution_count": null,
      "outputs": []
    }
  ]
}